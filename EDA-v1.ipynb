{
 "cells": [
  {
   "cell_type": "code",
   "execution_count": 1,
   "metadata": {
    "collapsed": true
   },
   "outputs": [],
   "source": [
    "# Importing packages \n",
    "\n",
    "import pandas as pd\n",
    "import matplotlib as mpl\n",
    "import matplotlib.pyplot as plt\n",
    "import seaborn as sns\n",
    "%matplotlib inline"
   ]
  },
  {
   "cell_type": "code",
   "execution_count": 2,
   "metadata": {
    "collapsed": true
   },
   "outputs": [],
   "source": [
    "# Reading files\n",
    "\n",
    "aisle_data = pd.read_csv('Instacart_2017_05_01/aisles.csv', sep = ',')\n",
    "dept_data = pd.read_csv('Instacart_2017_05_01/departments.csv', sep = ',')\n",
    "orders_data = pd.read_csv('Instacart_2017_05_01/orders.csv', sep = ',')\n",
    "prod_data = pd.read_csv('Instacart_2017_05_01/products.csv', sep = ',')\n",
    "order_prod_data = pd.read_csv('Instacart_2017_05_01/order_products__train.csv', sep = ',')\n"
   ]
  },
  {
   "cell_type": "markdown",
   "metadata": {},
   "source": [
    "### Peak hour of the day"
   ]
  },
  {
   "cell_type": "code",
   "execution_count": 3,
   "metadata": {},
   "outputs": [
    {
     "data": {
      "text/plain": [
       "<seaborn.axisgrid.FacetGrid at 0x1061e9128>"
      ]
     },
     "execution_count": 3,
     "metadata": {},
     "output_type": "execute_result"
    },
    {
     "data": {
      "image/png": "[encoded data removed]",
      "text/plain": [
       "<matplotlib.figure.Figure at 0x1a0bd49358>"
      ]
     },
     "metadata": {},
     "output_type": "display_data"
    }
   ],
   "source": [
    "# What is the peak hour od the day for orders from instacart customers?\n",
    "\n",
    "fig1 = sns.factorplot('order_hour_of_day', data=orders_data, kind='count', aspect=2)\n",
    "fig1.set_xlabels('Hour of Day')"
   ]
  },
  {
   "cell_type": "markdown",
   "metadata": {},
   "source": [
    "### Instacart customers: weekend shoppers or weekday shoppers? "
   ]
  },
  {
   "cell_type": "code",
   "execution_count": 4,
   "metadata": {},
   "outputs": [
    {
     "data": {
      "text/plain": [
       "<seaborn.axisgrid.FacetGrid at 0x109febc88>"
      ]
     },
     "execution_count": 4,
     "metadata": {},
     "output_type": "execute_result"
    },
    {
     "data": {
      "image/png": "[encoded data removed]",
      "text/plain": [
       "<matplotlib.figure.Figure at 0x1a5265aa20>"
      ]
     },
     "metadata": {},
     "output_type": "display_data"
    }
   ],
   "source": [
    "# Do instacart customers prefer weekend shopping over weekday shopping? \n",
    "\n",
    "fig2 = sns.factorplot('order_dow', data=orders_data, kind='count', aspect=2, palette='winter_d')\n",
    "fig2.set_xlabels('Day of the week')"
   ]
  },
  {
   "cell_type": "markdown",
   "metadata": {},
   "source": [
    "### Prime time for instacart orders in a week"
   ]
  },
  {
   "cell_type": "code",
   "execution_count": 5,
   "metadata": {},
   "outputs": [
    {
     "data": {
      "text/plain": [
       "<matplotlib.axes._subplots.AxesSubplot at 0x1043dec50>"
      ]
     },
     "execution_count": 5,
     "metadata": {},
     "output_type": "execute_result"
    },
    {
     "data": {
      "image/png": "[encoded data removed]",
      "text/plain": [
       "<matplotlib.figure.Figure at 0x1043bd390>"
      ]
     },
     "metadata": {},
     "output_type": "display_data"
    }
   ],
   "source": [
    "# Heat map that shows prime hours for instacart orders during a week\n",
    "\n",
    "fig3 = orders_data.pivot_table(index = 'order_hour_of_day', columns = 'order_dow', values = 'order_id', aggfunc = 'count')\n",
    "sns.heatmap(fig3, fmt = '',cmap = 'YlGnBu', linewidths = 0.5, xticklabels = True, yticklabels = 2)"
   ]
  },
  {
   "cell_type": "code",
   "execution_count": 6,
   "metadata": {},
   "outputs": [
    {
     "data": {
      "text/html": [
       "<div>\n",
       "<style>\n",
       "    .dataframe thead tr:only-child th {\n",
       "        text-align: right;\n",
       "    }\n",
       "\n",
       "    .dataframe thead th {\n",
       "        text-align: left;\n",
       "    }\n",
       "\n",
       "    .dataframe tbody tr th {\n",
       "        vertical-align: top;\n",
       "    }\n",
       "</style>\n",
       "<table border=\"1\" class=\"dataframe\">\n",
       "  <thead>\n",
       "    <tr style=\"text-align: right;\">\n",
       "      <th></th>\n",
       "      <th>order_id</th>\n",
       "      <th>user_id</th>\n",
       "      <th>eval_set</th>\n",
       "      <th>order_number</th>\n",
       "      <th>order_dow</th>\n",
       "      <th>order_hour_of_day</th>\n",
       "      <th>days_since_prior_order</th>\n",
       "      <th>product_id</th>\n",
       "      <th>product_name</th>\n",
       "      <th>aisle_id</th>\n",
       "      <th>department_id</th>\n",
       "      <th>add_to_cart_order</th>\n",
       "      <th>reordered</th>\n",
       "    </tr>\n",
       "  </thead>\n",
       "  <tbody>\n",
       "    <tr>\n",
       "      <th>0</th>\n",
       "      <td>1187899</td>\n",
       "      <td>1</td>\n",
       "      <td>train</td>\n",
       "      <td>11</td>\n",
       "      <td>4</td>\n",
       "      <td>8</td>\n",
       "      <td>14.0</td>\n",
       "      <td>196</td>\n",
       "      <td>Soda</td>\n",
       "      <td>77</td>\n",
       "      <td>7</td>\n",
       "      <td>1</td>\n",
       "      <td>1</td>\n",
       "    </tr>\n",
       "    <tr>\n",
       "      <th>1</th>\n",
       "      <td>1187899</td>\n",
       "      <td>1</td>\n",
       "      <td>train</td>\n",
       "      <td>11</td>\n",
       "      <td>4</td>\n",
       "      <td>8</td>\n",
       "      <td>14.0</td>\n",
       "      <td>10258</td>\n",
       "      <td>Pistachios</td>\n",
       "      <td>117</td>\n",
       "      <td>19</td>\n",
       "      <td>6</td>\n",
       "      <td>1</td>\n",
       "    </tr>\n",
       "    <tr>\n",
       "      <th>2</th>\n",
       "      <td>1187899</td>\n",
       "      <td>1</td>\n",
       "      <td>train</td>\n",
       "      <td>11</td>\n",
       "      <td>4</td>\n",
       "      <td>8</td>\n",
       "      <td>14.0</td>\n",
       "      <td>13032</td>\n",
       "      <td>Cinnamon Toast Crunch</td>\n",
       "      <td>121</td>\n",
       "      <td>14</td>\n",
       "      <td>7</td>\n",
       "      <td>1</td>\n",
       "    </tr>\n",
       "    <tr>\n",
       "      <th>3</th>\n",
       "      <td>1187899</td>\n",
       "      <td>1</td>\n",
       "      <td>train</td>\n",
       "      <td>11</td>\n",
       "      <td>4</td>\n",
       "      <td>8</td>\n",
       "      <td>14.0</td>\n",
       "      <td>25133</td>\n",
       "      <td>Organic String Cheese</td>\n",
       "      <td>21</td>\n",
       "      <td>16</td>\n",
       "      <td>2</td>\n",
       "      <td>1</td>\n",
       "    </tr>\n",
       "    <tr>\n",
       "      <th>4</th>\n",
       "      <td>1187899</td>\n",
       "      <td>1</td>\n",
       "      <td>train</td>\n",
       "      <td>11</td>\n",
       "      <td>4</td>\n",
       "      <td>8</td>\n",
       "      <td>14.0</td>\n",
       "      <td>26088</td>\n",
       "      <td>Aged White Cheddar Popcorn</td>\n",
       "      <td>23</td>\n",
       "      <td>19</td>\n",
       "      <td>8</td>\n",
       "      <td>1</td>\n",
       "    </tr>\n",
       "  </tbody>\n",
       "</table>\n",
       "</div>"
      ],
      "text/plain": [
       "   order_id  user_id eval_set  order_number  order_dow  order_hour_of_day  \\\n",
       "0   1187899        1    train            11          4                  8   \n",
       "1   1187899        1    train            11          4                  8   \n",
       "2   1187899        1    train            11          4                  8   \n",
       "3   1187899        1    train            11          4                  8   \n",
       "4   1187899        1    train            11          4                  8   \n",
       "\n",
       "   days_since_prior_order  product_id                product_name  aisle_id  \\\n",
       "0                    14.0         196                        Soda        77   \n",
       "1                    14.0       10258                  Pistachios       117   \n",
       "2                    14.0       13032       Cinnamon Toast Crunch       121   \n",
       "3                    14.0       25133       Organic String Cheese        21   \n",
       "4                    14.0       26088  Aged White Cheddar Popcorn        23   \n",
       "\n",
       "   department_id  add_to_cart_order  reordered  \n",
       "0              7                  1          1  \n",
       "1             19                  6          1  \n",
       "2             14                  7          1  \n",
       "3             16                  2          1  \n",
       "4             19                  8          1  "
      ]
     },
     "execution_count": 6,
     "metadata": {},
     "output_type": "execute_result"
    }
   ],
   "source": [
    "# Merging product and order table to get products in each order \n",
    "prod_in_each_order= pd.merge(prod_data, order_prod_data, on = 'product_id')\n",
    "\n",
    "# Merging the above dataframe with order data to get complete info on each order\n",
    "order_details = pd.merge(orders_data, prod_in_each_order, on = 'order_id')\n",
    "\n",
    "order_details.head()"
   ]
  },
  {
   "cell_type": "markdown",
   "metadata": {},
   "source": [
    "### Most frequently bought items"
   ]
  },
  {
   "cell_type": "code",
   "execution_count": 7,
   "metadata": {
    "scrolled": true
   },
   "outputs": [
    {
     "data": {
      "text/plain": [
       "Banana                    18726\n",
       "Bag of Organic Bananas    15480\n",
       "Organic Strawberries      10894\n",
       "Organic Baby Spinach       9784\n",
       "Large Lemon                8135\n",
       "Organic Avocado            7409\n",
       "Organic Hass Avocado       7293\n",
       "Strawberries               6494\n",
       "Limes                      6033\n",
       "Organic Raspberries        5546\n",
       "Name: product_name, dtype: int64"
      ]
     },
     "execution_count": 7,
     "metadata": {},
     "output_type": "execute_result"
    }
   ],
   "source": [
    "# Frequently bought items\n",
    "\n",
    "order_details['product_name'].value_counts().head(10)"
   ]
  },
  {
   "cell_type": "markdown",
   "metadata": {},
   "source": [
    "### Most frequently re-ordered items"
   ]
  },
  {
   "cell_type": "code",
   "execution_count": 8,
   "metadata": {},
   "outputs": [
    {
     "data": {
      "text/plain": [
       "Banana                    16557\n",
       "Bag of Organic Bananas    13362\n",
       "Organic Strawberries       8603\n",
       "Organic Baby Spinach       8055\n",
       "Organic Avocado            6226\n",
       "Organic Hass Avocado       6042\n",
       "Large Lemon                5923\n",
       "Strawberries               4786\n",
       "Organic Raspberries        4279\n",
       "Limes                      4234\n",
       "Name: product_name, dtype: int64"
      ]
     },
     "execution_count": 8,
     "metadata": {},
     "output_type": "execute_result"
    }
   ],
   "source": [
    "# Top 10 most frequently re-ordered items\n",
    "\n",
    "order_details[order_details['reordered']==1]['product_name'].value_counts().head(10)"
   ]
  },
  {
   "cell_type": "code",
   "execution_count": 9,
   "metadata": {
    "scrolled": true
   },
   "outputs": [
    {
     "data": {
      "text/plain": [
       "Banana                        4605\n",
       "Bag of Organic Bananas        3889\n",
       "Organic Whole Milk            1144\n",
       "Organic Avocado                995\n",
       "Organic Strawberries           900\n",
       "Organic Baby Spinach           869\n",
       "Organic Hass Avocado           797\n",
       "Spring Water                   730\n",
       "Strawberries                   707\n",
       "Sparkling Water Grapefruit     647\n",
       "Name: product_name, dtype: int64"
      ]
     },
     "execution_count": 9,
     "metadata": {},
     "output_type": "execute_result"
    }
   ],
   "source": [
    "# Top 10 items added to the cart first\n",
    "\n",
    "order_details[order_details['add_to_cart_order']==1]['product_name'].value_counts().head(10)\n"
   ]
  },
  {
   "cell_type": "code",
   "execution_count": null,
   "metadata": {
    "collapsed": true
   },
   "outputs": [],
   "source": []
  }
 ],
 "metadata": {
  "kernelspec": {
   "display_name": "Python 3",
   "language": "python",
   "name": "python3"
  },
  "language_info": {
   "codemirror_mode": {
    "name": "ipython",
    "version": 3
   },
   "file_extension": ".py",
   "mimetype": "text/x-python",
   "name": "python",
   "nbconvert_exporter": "python",
   "pygments_lexer": "ipython3",
   "version": "3.6.3"
  }
 },
 "nbformat": 4,
 "nbformat_minor": 2
}
